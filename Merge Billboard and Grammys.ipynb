{
 "cells": [
  {
   "cell_type": "code",
   "execution_count": 1,
   "id": "00f27eba",
   "metadata": {},
   "outputs": [],
   "source": [
    "\n",
    "import pandas as pd\n",
    "# Box Plot\n",
    "import seaborn as sns\n",
    "import numpy as np\n",
    "import matplotlib.pyplot as plt\n",
    "\n",
    "# import modules\n",
    "from matplotlib_venn import venn2 \n",
    "\n",
    "  "
   ]
  },
  {
   "cell_type": "code",
   "execution_count": 2,
   "id": "9f313532",
   "metadata": {},
   "outputs": [],
   "source": [
    "df_grammy = pd.read_csv (\"grammy_toMerge.csv\")\n",
    "\n",
    "df_billboard = pd.read_csv (r\"billboard_toMerge.csv\")\n"
   ]
  },
  {
   "cell_type": "code",
   "execution_count": 4,
   "id": "6532f4de",
   "metadata": {},
   "outputs": [],
   "source": [
    "#copy dataframes\n",
    "billboard_copy=df_billboard.copy(deep=True)\n",
    "grammy_copy=df_grammy.copy(deep=True)"
   ]
  },
  {
   "cell_type": "code",
   "execution_count": 5,
   "id": "41c9975a",
   "metadata": {},
   "outputs": [
    {
     "data": {
      "text/html": [
       "<div>\n",
       "<style scoped>\n",
       "    .dataframe tbody tr th:only-of-type {\n",
       "        vertical-align: middle;\n",
       "    }\n",
       "\n",
       "    .dataframe tbody tr th {\n",
       "        vertical-align: top;\n",
       "    }\n",
       "\n",
       "    .dataframe thead th {\n",
       "        text-align: right;\n",
       "    }\n",
       "</style>\n",
       "<table border=\"1\" class=\"dataframe\">\n",
       "  <thead>\n",
       "    <tr style=\"text-align: right;\">\n",
       "      <th></th>\n",
       "      <th>Unnamed: 0</th>\n",
       "      <th>Artist</th>\n",
       "      <th>Name</th>\n",
       "      <th>Genre</th>\n",
       "      <th>Unnamed: 0.1</th>\n",
       "      <th>Weekly_rank_avg</th>\n",
       "      <th>Peak_Position</th>\n",
       "      <th>Weeks_on_Chart</th>\n",
       "    </tr>\n",
       "  </thead>\n",
       "  <tbody>\n",
       "    <tr>\n",
       "      <th>0</th>\n",
       "      <td>0</td>\n",
       "      <td>LIL NAS X</td>\n",
       "      <td>OLD TOWN ROAD</td>\n",
       "      <td>COUNTRY,ATLANTA,ALTERNATIVE COUNTRY,HIP-HOP,TR...</td>\n",
       "      <td>0.000000</td>\n",
       "      <td>0.118093</td>\n",
       "      <td>0.000000</td>\n",
       "      <td>0.058824</td>\n",
       "    </tr>\n",
       "    <tr>\n",
       "      <th>1</th>\n",
       "      <td>1</td>\n",
       "      <td>SHAWN MENDES, CAMILA CABELLO</td>\n",
       "      <td>SENORITA</td>\n",
       "      <td>POP</td>\n",
       "      <td>0.000155</td>\n",
       "      <td>0.384799</td>\n",
       "      <td>0.136735</td>\n",
       "      <td>0.209412</td>\n",
       "    </tr>\n",
       "    <tr>\n",
       "      <th>2</th>\n",
       "      <td>2</td>\n",
       "      <td>BILLIE EILISH</td>\n",
       "      <td>BAD GUY</td>\n",
       "      <td>HIP-HOP,DARK POP,HOUSE,TRAP,MEMES,ALTERNATIVE ...</td>\n",
       "      <td>0.000310</td>\n",
       "      <td>0.450932</td>\n",
       "      <td>0.010204</td>\n",
       "      <td>0.129412</td>\n",
       "    </tr>\n",
       "    <tr>\n",
       "      <th>3</th>\n",
       "      <td>3</td>\n",
       "      <td>KHALID</td>\n",
       "      <td>TALK</td>\n",
       "      <td>SYNTH-POP,POP</td>\n",
       "      <td>0.000465</td>\n",
       "      <td>0.307484</td>\n",
       "      <td>0.020408</td>\n",
       "      <td>0.211765</td>\n",
       "    </tr>\n",
       "    <tr>\n",
       "      <th>4</th>\n",
       "      <td>4</td>\n",
       "      <td>ED SHEERAN, JUSTIN BIEBER</td>\n",
       "      <td>I DON'T CARE</td>\n",
       "      <td>CANADA,UK,DANCE,DANCE-POP,POP</td>\n",
       "      <td>0.000619</td>\n",
       "      <td>0.354845</td>\n",
       "      <td>0.010204</td>\n",
       "      <td>0.058824</td>\n",
       "    </tr>\n",
       "  </tbody>\n",
       "</table>\n",
       "</div>"
      ],
      "text/plain": [
       "   Unnamed: 0                        Artist           Name  \\\n",
       "0           0                     LIL NAS X  OLD TOWN ROAD   \n",
       "1           1  SHAWN MENDES, CAMILA CABELLO       SENORITA   \n",
       "2           2                 BILLIE EILISH        BAD GUY   \n",
       "3           3                        KHALID           TALK   \n",
       "4           4     ED SHEERAN, JUSTIN BIEBER   I DON'T CARE   \n",
       "\n",
       "                                               Genre  Unnamed: 0.1  \\\n",
       "0  COUNTRY,ATLANTA,ALTERNATIVE COUNTRY,HIP-HOP,TR...      0.000000   \n",
       "1                                                POP      0.000155   \n",
       "2  HIP-HOP,DARK POP,HOUSE,TRAP,MEMES,ALTERNATIVE ...      0.000310   \n",
       "3                                      SYNTH-POP,POP      0.000465   \n",
       "4                      CANADA,UK,DANCE,DANCE-POP,POP      0.000619   \n",
       "\n",
       "   Weekly_rank_avg  Peak_Position  Weeks_on_Chart  \n",
       "0         0.118093       0.000000        0.058824  \n",
       "1         0.384799       0.136735        0.209412  \n",
       "2         0.450932       0.010204        0.129412  \n",
       "3         0.307484       0.020408        0.211765  \n",
       "4         0.354845       0.010204        0.058824  "
      ]
     },
     "execution_count": 5,
     "metadata": {},
     "output_type": "execute_result"
    }
   ],
   "source": [
    "billboard_copy.head()"
   ]
  },
  {
   "cell_type": "code",
   "execution_count": 5,
   "id": "5e39d3f7",
   "metadata": {},
   "outputs": [
    {
     "data": {
      "text/html": [
       "<div>\n",
       "<style scoped>\n",
       "    .dataframe tbody tr th:only-of-type {\n",
       "        vertical-align: middle;\n",
       "    }\n",
       "\n",
       "    .dataframe tbody tr th {\n",
       "        vertical-align: top;\n",
       "    }\n",
       "\n",
       "    .dataframe thead th {\n",
       "        text-align: right;\n",
       "    }\n",
       "</style>\n",
       "<table border=\"1\" class=\"dataframe\">\n",
       "  <thead>\n",
       "    <tr style=\"text-align: right;\">\n",
       "      <th></th>\n",
       "      <th>Unnamed: 0</th>\n",
       "      <th>Name</th>\n",
       "      <th>Artist</th>\n",
       "      <th>grammy_win</th>\n",
       "    </tr>\n",
       "  </thead>\n",
       "  <tbody>\n",
       "    <tr>\n",
       "      <th>0</th>\n",
       "      <td>0</td>\n",
       "      <td>THIS IS AMERICA</td>\n",
       "      <td>CHILDISH GAMBINO</td>\n",
       "      <td>1</td>\n",
       "    </tr>\n",
       "    <tr>\n",
       "      <th>1</th>\n",
       "      <td>1</td>\n",
       "      <td>JOANNE (WHERE DO YOU THINK YOU'RE GOIN'?)</td>\n",
       "      <td>LADY GAGA</td>\n",
       "      <td>1</td>\n",
       "    </tr>\n",
       "    <tr>\n",
       "      <th>2</th>\n",
       "      <td>2</td>\n",
       "      <td>SHALLOW</td>\n",
       "      <td>LADY GAGA, BRADLEY COOPER</td>\n",
       "      <td>1</td>\n",
       "    </tr>\n",
       "    <tr>\n",
       "      <th>3</th>\n",
       "      <td>3</td>\n",
       "      <td>ELECTRICITY</td>\n",
       "      <td>SILK CITY, DUA LIPA</td>\n",
       "      <td>1</td>\n",
       "    </tr>\n",
       "    <tr>\n",
       "      <th>4</th>\n",
       "      <td>4</td>\n",
       "      <td>WHEN BAD DOES GOOD</td>\n",
       "      <td>CHRIS CORNELL</td>\n",
       "      <td>1</td>\n",
       "    </tr>\n",
       "  </tbody>\n",
       "</table>\n",
       "</div>"
      ],
      "text/plain": [
       "   Unnamed: 0                                       Name  \\\n",
       "0           0                            THIS IS AMERICA   \n",
       "1           1  JOANNE (WHERE DO YOU THINK YOU'RE GOIN'?)   \n",
       "2           2                                    SHALLOW   \n",
       "3           3                                ELECTRICITY   \n",
       "4           4                         WHEN BAD DOES GOOD   \n",
       "\n",
       "                      Artist  grammy_win  \n",
       "0           CHILDISH GAMBINO           1  \n",
       "1                  LADY GAGA           1  \n",
       "2  LADY GAGA, BRADLEY COOPER           1  \n",
       "3        SILK CITY, DUA LIPA           1  \n",
       "4              CHRIS CORNELL           1  "
      ]
     },
     "execution_count": 5,
     "metadata": {},
     "output_type": "execute_result"
    }
   ],
   "source": [
    "df_grammy.head()"
   ]
  },
  {
   "cell_type": "code",
   "execution_count": 6,
   "id": "9147787c",
   "metadata": {},
   "outputs": [],
   "source": [
    "# applying merge with more parameters\n",
    "merged_bill_grammy=billboard_copy.merge(grammy_copy[['Name', 'Artist','grammy_win']], on = ['Name','Artist'], how = 'left')\n",
    "#left ile billboard satırları kaldı ama peak, wekks on chart bilgileri olan grammy şarkıları gelmemiş oldu. Ya outer yapıp normalize edilecek ya da böyle kalacak."
   ]
  },
  {
   "cell_type": "code",
   "execution_count": 7,
   "id": "2279c0db",
   "metadata": {},
   "outputs": [
    {
     "data": {
      "text/plain": [
       "Unnamed: 0            0\n",
       "Artist                0\n",
       "Name                  0\n",
       "Genre                 0\n",
       "Unnamed: 0.1          0\n",
       "Weekly_rank_avg       0\n",
       "Peak_Position         0\n",
       "Weeks_on_Chart        0\n",
       "grammy_win         6287\n",
       "dtype: int64"
      ]
     },
     "execution_count": 7,
     "metadata": {},
     "output_type": "execute_result"
    }
   ],
   "source": [
    "merged_bill_grammy.isna().sum()"
   ]
  },
  {
   "cell_type": "code",
   "execution_count": 8,
   "id": "e429792f",
   "metadata": {},
   "outputs": [],
   "source": [
    "#replace grammy_win column na values with zero(0)\n",
    "merged_bill_grammy_copy=merged_bill_grammy.copy(deep=True)\n",
    "merged_bill_grammy_copy['grammy_win'] = merged_bill_grammy_copy['grammy_win'].fillna(0)"
   ]
  },
  {
   "cell_type": "code",
   "execution_count": 9,
   "id": "b763e7cb",
   "metadata": {},
   "outputs": [
    {
     "data": {
      "text/plain": [
       "Unnamed: 0         0\n",
       "Artist             0\n",
       "Name               0\n",
       "Genre              0\n",
       "Unnamed: 0.1       0\n",
       "Weekly_rank_avg    0\n",
       "Peak_Position      0\n",
       "Weeks_on_Chart     0\n",
       "grammy_win         0\n",
       "dtype: int64"
      ]
     },
     "execution_count": 9,
     "metadata": {},
     "output_type": "execute_result"
    }
   ],
   "source": [
    "merged_bill_grammy_copy.isna().sum()"
   ]
  },
  {
   "cell_type": "code",
   "execution_count": 10,
   "id": "835e1ca8",
   "metadata": {},
   "outputs": [
    {
     "data": {
      "text/html": [
       "<div>\n",
       "<style scoped>\n",
       "    .dataframe tbody tr th:only-of-type {\n",
       "        vertical-align: middle;\n",
       "    }\n",
       "\n",
       "    .dataframe tbody tr th {\n",
       "        vertical-align: top;\n",
       "    }\n",
       "\n",
       "    .dataframe thead th {\n",
       "        text-align: right;\n",
       "    }\n",
       "</style>\n",
       "<table border=\"1\" class=\"dataframe\">\n",
       "  <thead>\n",
       "    <tr style=\"text-align: right;\">\n",
       "      <th></th>\n",
       "      <th>Unnamed: 0</th>\n",
       "      <th>Artist</th>\n",
       "      <th>Name</th>\n",
       "      <th>Genre</th>\n",
       "      <th>Unnamed: 0.1</th>\n",
       "      <th>Weekly_rank_avg</th>\n",
       "      <th>Peak_Position</th>\n",
       "      <th>Weeks_on_Chart</th>\n",
       "      <th>grammy_win</th>\n",
       "    </tr>\n",
       "  </thead>\n",
       "  <tbody>\n",
       "    <tr>\n",
       "      <th>0</th>\n",
       "      <td>0</td>\n",
       "      <td>LIL NAS X</td>\n",
       "      <td>OLD TOWN ROAD</td>\n",
       "      <td>COUNTRY,ATLANTA,ALTERNATIVE COUNTRY,HIP-HOP,TR...</td>\n",
       "      <td>0.000000</td>\n",
       "      <td>0.118093</td>\n",
       "      <td>0.000000</td>\n",
       "      <td>0.058824</td>\n",
       "      <td>0.0</td>\n",
       "    </tr>\n",
       "    <tr>\n",
       "      <th>1</th>\n",
       "      <td>1</td>\n",
       "      <td>SHAWN MENDES, CAMILA CABELLO</td>\n",
       "      <td>SENORITA</td>\n",
       "      <td>POP</td>\n",
       "      <td>0.000155</td>\n",
       "      <td>0.384799</td>\n",
       "      <td>0.136735</td>\n",
       "      <td>0.209412</td>\n",
       "      <td>0.0</td>\n",
       "    </tr>\n",
       "    <tr>\n",
       "      <th>2</th>\n",
       "      <td>2</td>\n",
       "      <td>BILLIE EILISH</td>\n",
       "      <td>BAD GUY</td>\n",
       "      <td>HIP-HOP,DARK POP,HOUSE,TRAP,MEMES,ALTERNATIVE ...</td>\n",
       "      <td>0.000310</td>\n",
       "      <td>0.450932</td>\n",
       "      <td>0.010204</td>\n",
       "      <td>0.129412</td>\n",
       "      <td>0.0</td>\n",
       "    </tr>\n",
       "    <tr>\n",
       "      <th>3</th>\n",
       "      <td>3</td>\n",
       "      <td>KHALID</td>\n",
       "      <td>TALK</td>\n",
       "      <td>SYNTH-POP,POP</td>\n",
       "      <td>0.000465</td>\n",
       "      <td>0.307484</td>\n",
       "      <td>0.020408</td>\n",
       "      <td>0.211765</td>\n",
       "      <td>0.0</td>\n",
       "    </tr>\n",
       "    <tr>\n",
       "      <th>4</th>\n",
       "      <td>4</td>\n",
       "      <td>ED SHEERAN, JUSTIN BIEBER</td>\n",
       "      <td>I DON'T CARE</td>\n",
       "      <td>CANADA,UK,DANCE,DANCE-POP,POP</td>\n",
       "      <td>0.000619</td>\n",
       "      <td>0.354845</td>\n",
       "      <td>0.010204</td>\n",
       "      <td>0.058824</td>\n",
       "      <td>0.0</td>\n",
       "    </tr>\n",
       "  </tbody>\n",
       "</table>\n",
       "</div>"
      ],
      "text/plain": [
       "   Unnamed: 0                        Artist           Name  \\\n",
       "0           0                     LIL NAS X  OLD TOWN ROAD   \n",
       "1           1  SHAWN MENDES, CAMILA CABELLO       SENORITA   \n",
       "2           2                 BILLIE EILISH        BAD GUY   \n",
       "3           3                        KHALID           TALK   \n",
       "4           4     ED SHEERAN, JUSTIN BIEBER   I DON'T CARE   \n",
       "\n",
       "                                               Genre  Unnamed: 0.1  \\\n",
       "0  COUNTRY,ATLANTA,ALTERNATIVE COUNTRY,HIP-HOP,TR...      0.000000   \n",
       "1                                                POP      0.000155   \n",
       "2  HIP-HOP,DARK POP,HOUSE,TRAP,MEMES,ALTERNATIVE ...      0.000310   \n",
       "3                                      SYNTH-POP,POP      0.000465   \n",
       "4                      CANADA,UK,DANCE,DANCE-POP,POP      0.000619   \n",
       "\n",
       "   Weekly_rank_avg  Peak_Position  Weeks_on_Chart  grammy_win  \n",
       "0         0.118093       0.000000        0.058824         0.0  \n",
       "1         0.384799       0.136735        0.209412         0.0  \n",
       "2         0.450932       0.010204        0.129412         0.0  \n",
       "3         0.307484       0.020408        0.211765         0.0  \n",
       "4         0.354845       0.010204        0.058824         0.0  "
      ]
     },
     "execution_count": 10,
     "metadata": {},
     "output_type": "execute_result"
    }
   ],
   "source": [
    "merged_bill_grammy_copy.head()"
   ]
  },
  {
   "cell_type": "code",
   "execution_count": 11,
   "id": "1c0b4f05",
   "metadata": {},
   "outputs": [],
   "source": [
    "merged_bill_grammy_copy=merged_bill_grammy_copy.drop(['Unnamed: 0','Unnamed: 0.1'],axis=1)"
   ]
  },
  {
   "cell_type": "code",
   "execution_count": 12,
   "id": "dfafbae0",
   "metadata": {},
   "outputs": [
    {
     "data": {
      "text/html": [
       "<div>\n",
       "<style scoped>\n",
       "    .dataframe tbody tr th:only-of-type {\n",
       "        vertical-align: middle;\n",
       "    }\n",
       "\n",
       "    .dataframe tbody tr th {\n",
       "        vertical-align: top;\n",
       "    }\n",
       "\n",
       "    .dataframe thead th {\n",
       "        text-align: right;\n",
       "    }\n",
       "</style>\n",
       "<table border=\"1\" class=\"dataframe\">\n",
       "  <thead>\n",
       "    <tr style=\"text-align: right;\">\n",
       "      <th></th>\n",
       "      <th>Artist</th>\n",
       "      <th>Name</th>\n",
       "      <th>Genre</th>\n",
       "      <th>Weekly_rank_avg</th>\n",
       "      <th>Peak_Position</th>\n",
       "      <th>Weeks_on_Chart</th>\n",
       "      <th>grammy_win</th>\n",
       "    </tr>\n",
       "  </thead>\n",
       "  <tbody>\n",
       "    <tr>\n",
       "      <th>0</th>\n",
       "      <td>LIL NAS X</td>\n",
       "      <td>OLD TOWN ROAD</td>\n",
       "      <td>COUNTRY,ATLANTA,ALTERNATIVE COUNTRY,HIP-HOP,TR...</td>\n",
       "      <td>0.118093</td>\n",
       "      <td>0.000000</td>\n",
       "      <td>0.058824</td>\n",
       "      <td>0.0</td>\n",
       "    </tr>\n",
       "    <tr>\n",
       "      <th>1</th>\n",
       "      <td>SHAWN MENDES, CAMILA CABELLO</td>\n",
       "      <td>SENORITA</td>\n",
       "      <td>POP</td>\n",
       "      <td>0.384799</td>\n",
       "      <td>0.136735</td>\n",
       "      <td>0.209412</td>\n",
       "      <td>0.0</td>\n",
       "    </tr>\n",
       "    <tr>\n",
       "      <th>2</th>\n",
       "      <td>BILLIE EILISH</td>\n",
       "      <td>BAD GUY</td>\n",
       "      <td>HIP-HOP,DARK POP,HOUSE,TRAP,MEMES,ALTERNATIVE ...</td>\n",
       "      <td>0.450932</td>\n",
       "      <td>0.010204</td>\n",
       "      <td>0.129412</td>\n",
       "      <td>0.0</td>\n",
       "    </tr>\n",
       "    <tr>\n",
       "      <th>3</th>\n",
       "      <td>KHALID</td>\n",
       "      <td>TALK</td>\n",
       "      <td>SYNTH-POP,POP</td>\n",
       "      <td>0.307484</td>\n",
       "      <td>0.020408</td>\n",
       "      <td>0.211765</td>\n",
       "      <td>0.0</td>\n",
       "    </tr>\n",
       "    <tr>\n",
       "      <th>4</th>\n",
       "      <td>ED SHEERAN, JUSTIN BIEBER</td>\n",
       "      <td>I DON'T CARE</td>\n",
       "      <td>CANADA,UK,DANCE,DANCE-POP,POP</td>\n",
       "      <td>0.354845</td>\n",
       "      <td>0.010204</td>\n",
       "      <td>0.058824</td>\n",
       "      <td>0.0</td>\n",
       "    </tr>\n",
       "    <tr>\n",
       "      <th>...</th>\n",
       "      <td>...</td>\n",
       "      <td>...</td>\n",
       "      <td>...</td>\n",
       "      <td>...</td>\n",
       "      <td>...</td>\n",
       "      <td>...</td>\n",
       "      <td>...</td>\n",
       "    </tr>\n",
       "    <tr>\n",
       "      <th>6454</th>\n",
       "      <td>FATBOY SLIM</td>\n",
       "      <td>PRAISE YOU</td>\n",
       "      <td>TECHNO,POP</td>\n",
       "      <td>0.883851</td>\n",
       "      <td>0.357143</td>\n",
       "      <td>0.211765</td>\n",
       "      <td>0.0</td>\n",
       "    </tr>\n",
       "    <tr>\n",
       "      <th>6455</th>\n",
       "      <td>COLLIN RAYE</td>\n",
       "      <td>ANYONE ELSE</td>\n",
       "      <td>COUNTRY</td>\n",
       "      <td>0.901129</td>\n",
       "      <td>0.367347</td>\n",
       "      <td>0.211765</td>\n",
       "      <td>0.0</td>\n",
       "    </tr>\n",
       "    <tr>\n",
       "      <th>6456</th>\n",
       "      <td>TRICK DADDY</td>\n",
       "      <td>NANN</td>\n",
       "      <td>RAP</td>\n",
       "      <td>0.690269</td>\n",
       "      <td>0.622449</td>\n",
       "      <td>0.211765</td>\n",
       "      <td>0.0</td>\n",
       "    </tr>\n",
       "    <tr>\n",
       "      <th>6457</th>\n",
       "      <td>CLAY WALKER</td>\n",
       "      <td>SHE'S ALWAYS RIGHT</td>\n",
       "      <td>POP</td>\n",
       "      <td>0.835929</td>\n",
       "      <td>0.744898</td>\n",
       "      <td>0.047059</td>\n",
       "      <td>0.0</td>\n",
       "    </tr>\n",
       "    <tr>\n",
       "      <th>6458</th>\n",
       "      <td>THE OFFSPRING</td>\n",
       "      <td>WHY DON'T YOU GET A JOB?</td>\n",
       "      <td>SKA,PUNK ROCK,ROCK</td>\n",
       "      <td>0.613540</td>\n",
       "      <td>0.744898</td>\n",
       "      <td>0.152941</td>\n",
       "      <td>0.0</td>\n",
       "    </tr>\n",
       "  </tbody>\n",
       "</table>\n",
       "<p>6459 rows × 7 columns</p>\n",
       "</div>"
      ],
      "text/plain": [
       "                            Artist                      Name  \\\n",
       "0                        LIL NAS X             OLD TOWN ROAD   \n",
       "1     SHAWN MENDES, CAMILA CABELLO                  SENORITA   \n",
       "2                    BILLIE EILISH                   BAD GUY   \n",
       "3                           KHALID                      TALK   \n",
       "4        ED SHEERAN, JUSTIN BIEBER              I DON'T CARE   \n",
       "...                            ...                       ...   \n",
       "6454                   FATBOY SLIM                PRAISE YOU   \n",
       "6455                   COLLIN RAYE               ANYONE ELSE   \n",
       "6456                   TRICK DADDY                      NANN   \n",
       "6457                   CLAY WALKER        SHE'S ALWAYS RIGHT   \n",
       "6458                 THE OFFSPRING  WHY DON'T YOU GET A JOB?   \n",
       "\n",
       "                                                  Genre  Weekly_rank_avg  \\\n",
       "0     COUNTRY,ATLANTA,ALTERNATIVE COUNTRY,HIP-HOP,TR...         0.118093   \n",
       "1                                                   POP         0.384799   \n",
       "2     HIP-HOP,DARK POP,HOUSE,TRAP,MEMES,ALTERNATIVE ...         0.450932   \n",
       "3                                         SYNTH-POP,POP         0.307484   \n",
       "4                         CANADA,UK,DANCE,DANCE-POP,POP         0.354845   \n",
       "...                                                 ...              ...   \n",
       "6454                                         TECHNO,POP         0.883851   \n",
       "6455                                            COUNTRY         0.901129   \n",
       "6456                                                RAP         0.690269   \n",
       "6457                                                POP         0.835929   \n",
       "6458                                 SKA,PUNK ROCK,ROCK         0.613540   \n",
       "\n",
       "      Peak_Position  Weeks_on_Chart  grammy_win  \n",
       "0          0.000000        0.058824         0.0  \n",
       "1          0.136735        0.209412         0.0  \n",
       "2          0.010204        0.129412         0.0  \n",
       "3          0.020408        0.211765         0.0  \n",
       "4          0.010204        0.058824         0.0  \n",
       "...             ...             ...         ...  \n",
       "6454       0.357143        0.211765         0.0  \n",
       "6455       0.367347        0.211765         0.0  \n",
       "6456       0.622449        0.211765         0.0  \n",
       "6457       0.744898        0.047059         0.0  \n",
       "6458       0.744898        0.152941         0.0  \n",
       "\n",
       "[6459 rows x 7 columns]"
      ]
     },
     "execution_count": 12,
     "metadata": {},
     "output_type": "execute_result"
    }
   ],
   "source": [
    "merged_bill_grammy_copy"
   ]
  },
  {
   "cell_type": "code",
   "execution_count": 14,
   "id": "2e0d8c53",
   "metadata": {},
   "outputs": [],
   "source": [
    "merged_bill_grammy_copy.to_csv(\"merged_df.csv\")"
   ]
  },
  {
   "cell_type": "code",
   "execution_count": 15,
   "id": "632ec982",
   "metadata": {},
   "outputs": [
    {
     "data": {
      "image/png": "[encoded data removed]",
      "text/plain": [
       "<Figure size 720x720 with 2 Axes>"
      ]
     },
     "metadata": {
      "needs_background": "light"
     },
     "output_type": "display_data"
    }
   ],
   "source": [
    "#Correlation matrix-heat map \n",
    "f = plt.figure(figsize=(10, 10))\n",
    "corr = merged_bill_grammy_copy.corr()\n",
    "ax = sns.heatmap(corr, vmin=-1, vmax=1, center=0,  cmap = sns.diverging_palette(220, 10, n=100),  square=True)\n",
    "_ = ax.set_xticklabels(ax.get_xticklabels(), rotation=45, horizontalalignment='right')"
   ]
  },
  {
   "cell_type": "code",
   "execution_count": 16,
   "id": "2c17d3f5",
   "metadata": {},
   "outputs": [
    {
     "data": {
      "image/png": "[encoded data removed]",
      "text/plain": [
       "<Figure size 720x1080 with 1 Axes>"
      ]
     },
     "metadata": {},
     "output_type": "display_data"
    }
   ],
   "source": [
    "merged_pie = merged_bill_grammy_copy.groupby(\"grammy_win\", as_index = False).agg({\"Name\": \"count\"})\n",
    "plt.figure(figsize = (10,15))\n",
    "_ = plt.pie(merged_pie[\"Name\"],labels= merged_pie[\"grammy_win\"],autopct=\"%1.2f%%\")"
   ]
  },
  {
   "cell_type": "code",
   "execution_count": 17,
   "id": "5a59c9e3",
   "metadata": {},
   "outputs": [
    {
     "data": {
      "image/png": "[encoded data removed]",
      "text/plain": [
       "<Figure size 432x288 with 1 Axes>"
      ]
     },
     "metadata": {
      "needs_background": "light"
     },
     "output_type": "display_data"
    }
   ],
   "source": [
    "#boxplot to detect outlier\n",
    "\n",
    "boxplot = merged_bill_grammy_copy.boxplot(by='grammy_win' ,column=['Weeks_on_Chart'],grid=False)\n"
   ]
  },
  {
   "cell_type": "code",
   "execution_count": 18,
   "id": "542db815",
   "metadata": {},
   "outputs": [
    {
     "data": {
      "image/png": "[encoded data removed]",
      "text/plain": [
       "<Figure size 432x288 with 4 Axes>"
      ]
     },
     "metadata": {
      "needs_background": "light"
     },
     "output_type": "display_data"
    }
   ],
   "source": [
    "# create histogram for numeric data\n",
    "merged_bill_grammy_copy.hist()\n",
    "  \n",
    "# show plot\n",
    "plt.show()"
   ]
  },
  {
   "cell_type": "code",
   "execution_count": 25,
   "id": "f8c4532f",
   "metadata": {},
   "outputs": [],
   "source": [
    "#remove outliers and oversample the data after test split\n",
    "\n",
    "def outlier(dataframe,i):\n",
    "    # question that has outliers (understands from the boxplot) \n",
    "    outlierQuestion=dataframe[i]\n",
    "    # finding the 1st quartile\n",
    "    q1 = np.quantile(outlierQuestion, 0.25)\n",
    "     \n",
    "    # finding the 3rd quartile\n",
    "    q3 = np.quantile(outlierQuestion, 0.75)\n",
    "     \n",
    "    # finding the interquartile range\n",
    "    iqr = q3-q1\n",
    "  \n",
    "    # finding upper and lower whiskers\n",
    "    upperBound = q3+(1.5*iqr)\n",
    "    lowerBound = q1-(1.5*iqr)\n",
    "    #print(iqr, upperBound, lowerBound)\n",
    "    outliers = outlierQuestion[(outlierQuestion <= lowerBound) | (outlierQuestion >= upperBound)]\n",
    "    print(outliers)\n",
    "   \n",
    "   for j in i:\n",
    "      dataframe[j].replace(outliers.values,dataframe[j].mode()[0],inplace=True)\n",
    "      print(dataframe[j])"
   ]
  },
  {
   "cell_type": "code",
   "execution_count": 33,
   "id": "5a352329",
   "metadata": {},
   "outputs": [],
   "source": [
    "removed_oulierBill=pd.read_csv(\"edited_bill.csv\")"
   ]
  },
  {
   "cell_type": "code",
   "execution_count": 35,
   "id": "51c3b371",
   "metadata": {},
   "outputs": [
    {
     "data": {
      "text/html": [
       "<div>\n",
       "<style scoped>\n",
       "    .dataframe tbody tr th:only-of-type {\n",
       "        vertical-align: middle;\n",
       "    }\n",
       "\n",
       "    .dataframe tbody tr th {\n",
       "        vertical-align: top;\n",
       "    }\n",
       "\n",
       "    .dataframe thead th {\n",
       "        text-align: right;\n",
       "    }\n",
       "</style>\n",
       "<table border=\"1\" class=\"dataframe\">\n",
       "  <thead>\n",
       "    <tr style=\"text-align: right;\">\n",
       "      <th></th>\n",
       "      <th>Unnamed: 0</th>\n",
       "      <th>Artist</th>\n",
       "      <th>Name</th>\n",
       "      <th>Weekly_rank_avg</th>\n",
       "      <th>Peak_Position</th>\n",
       "      <th>Weeks_on_Chart</th>\n",
       "      <th>Genre</th>\n",
       "    </tr>\n",
       "  </thead>\n",
       "  <tbody>\n",
       "    <tr>\n",
       "      <th>0</th>\n",
       "      <td>0</td>\n",
       "      <td>Lil Nas,</td>\n",
       "      <td>OLD TOWN ROAD</td>\n",
       "      <td>16.478261</td>\n",
       "      <td>1.0</td>\n",
       "      <td>7.0</td>\n",
       "      <td>Country,Atlanta,Alternative Country,Hip-Hop,Tr...</td>\n",
       "    </tr>\n",
       "    <tr>\n",
       "      <th>1</th>\n",
       "      <td>1</td>\n",
       "      <td>Shawn Mendes, Camila Cabello</td>\n",
       "      <td>SENORITA</td>\n",
       "      <td>41.736842</td>\n",
       "      <td>NaN</td>\n",
       "      <td>NaN</td>\n",
       "      <td>Pop</td>\n",
       "    </tr>\n",
       "    <tr>\n",
       "      <th>2</th>\n",
       "      <td>2</td>\n",
       "      <td>Billie Eilish</td>\n",
       "      <td>BAD GUY</td>\n",
       "      <td>48.000000</td>\n",
       "      <td>2.0</td>\n",
       "      <td>13.0</td>\n",
       "      <td>Hip-Hop,Dark Pop,House,Trap,Memes,Alternative ...</td>\n",
       "    </tr>\n",
       "    <tr>\n",
       "      <th>3</th>\n",
       "      <td>3</td>\n",
       "      <td>Khalid</td>\n",
       "      <td>TALK</td>\n",
       "      <td>34.414634</td>\n",
       "      <td>3.0</td>\n",
       "      <td>20.0</td>\n",
       "      <td>Synth-Pop,Pop</td>\n",
       "    </tr>\n",
       "    <tr>\n",
       "      <th>4</th>\n",
       "      <td>4</td>\n",
       "      <td>Ed Sheeran, Justin Bieber</td>\n",
       "      <td>I DON'T CARE</td>\n",
       "      <td>38.900000</td>\n",
       "      <td>2.0</td>\n",
       "      <td>7.0</td>\n",
       "      <td>Canada,UK,Dance,Dance-Pop,Pop</td>\n",
       "    </tr>\n",
       "  </tbody>\n",
       "</table>\n",
       "</div>"
      ],
      "text/plain": [
       "   Unnamed: 0                        Artist           Name  Weekly_rank_avg  \\\n",
       "0           0                      Lil Nas,  OLD TOWN ROAD        16.478261   \n",
       "1           1  Shawn Mendes, Camila Cabello       SENORITA        41.736842   \n",
       "2           2                 Billie Eilish        BAD GUY        48.000000   \n",
       "3           3                        Khalid           TALK        34.414634   \n",
       "4           4     Ed Sheeran, Justin Bieber   I DON'T CARE        38.900000   \n",
       "\n",
       "   Peak_Position  Weeks_on_Chart  \\\n",
       "0            1.0             7.0   \n",
       "1            NaN             NaN   \n",
       "2            2.0            13.0   \n",
       "3            3.0            20.0   \n",
       "4            2.0             7.0   \n",
       "\n",
       "                                               Genre  \n",
       "0  Country,Atlanta,Alternative Country,Hip-Hop,Tr...  \n",
       "1                                                Pop  \n",
       "2  Hip-Hop,Dark Pop,House,Trap,Memes,Alternative ...  \n",
       "3                                      Synth-Pop,Pop  \n",
       "4                      Canada,UK,Dance,Dance-Pop,Pop  "
      ]
     },
     "execution_count": 35,
     "metadata": {},
     "output_type": "execute_result"
    }
   ],
   "source": [
    "removed_oulierBill.head()"
   ]
  },
  {
   "cell_type": "code",
   "execution_count": 57,
   "id": "94f37c35",
   "metadata": {},
   "outputs": [
    {
     "name": "stdout",
     "output_type": "stream",
     "text": [
      "Series([], Name: Weeks_on_Chart, dtype: float64)\n"
     ]
    },
    {
     "name": "stderr",
     "output_type": "stream",
     "text": [
      "C:\\Users\\ASUS\\anaconda3\\lib\\site-packages\\seaborn\\_decorators.py:36: FutureWarning: Pass the following variable as a keyword arg: x. From version 0.12, the only valid positional argument will be `data`, and passing other arguments without an explicit keyword will result in an error or misinterpretation.\n",
      "  warnings.warn(\n"
     ]
    },
    {
     "data": {
      "image/png": "[encoded data removed]",
      "text/plain": [
       "<Figure size 432x288 with 1 Axes>"
      ]
     },
     "metadata": {
      "needs_background": "light"
     },
     "output_type": "display_data"
    }
   ],
   "source": [
    "#detect outliers before normalization\n",
    "# Box Plot\n",
    "import seaborn as sns\n",
    "sns.boxplot(removed_oulierBill['Weeks_on_Chart'])\n",
    "#sns.boxplot(removed_oulierBill['Weekly_rank_avg'])\n",
    "#sns.boxplot(removed_oulierBill['Peak_Position'])\n",
    "\n",
    "outlier(removed_oulierBill,\"Weeks_on_Chart\")"
   ]
  },
  {
   "cell_type": "code",
   "execution_count": 58,
   "id": "44ec6487",
   "metadata": {},
   "outputs": [
    {
     "data": {
      "text/plain": [
       "(array([  24,   31,   34,   40,   44,  137,  164,  170,  177,  188,  214,\n",
       "         215,  285,  408,  411,  453,  496,  638,  640,  641,  736,  739,\n",
       "         835,  845,  859,  874,  887,  888,  913,  945,  948,  963,  976,\n",
       "        1049, 1061, 1096, 1138, 1251, 1252, 1325, 1417, 1426, 1432, 1509,\n",
       "        1550, 1592, 1599, 1620, 1646, 1700, 1701, 1805, 1859, 1867, 1887,\n",
       "        1894, 1916, 1974, 2033, 2036, 2067, 2079, 2121, 2161, 2188, 2209,\n",
       "        2214, 2233, 2244, 2245, 2262, 2329, 2365, 2376, 2421, 2448, 2531,\n",
       "        2537, 2551, 2569, 2579, 2594, 2605, 2611, 2618, 2669, 2691, 2766,\n",
       "        2772, 2778, 2791, 2833, 2871, 2887, 2950, 3124, 3195, 3431, 3478,\n",
       "        3497, 3611, 3643, 3799, 3819, 3839, 3864, 3927, 4129, 4197, 4198,\n",
       "        4208, 4258, 4344, 4458, 4467, 4523, 4632, 4695, 4835, 4882, 4946,\n",
       "        5028, 5073, 5182, 5198, 5254, 5287, 5351, 5379, 5485, 5674, 5732,\n",
       "        5756, 5817, 5818, 5848, 5858, 5867, 5980, 5981, 6019, 6048, 6149,\n",
       "        6150, 6194, 6324], dtype=int64),)"
      ]
     },
     "execution_count": 58,
     "metadata": {},
     "output_type": "execute_result"
    }
   ],
   "source": [
    "# Position of the Outlier\n",
    "#only weekly on chart has outliers \n",
    "outlier_woc=np.where(removed_oulierBill['Weeks_on_Chart']>40)\n",
    "outlier_woc"
   ]
  },
  {
   "cell_type": "code",
   "execution_count": null,
   "id": "40068e8b",
   "metadata": {},
   "outputs": [],
   "source": []
  }
 ],
 "metadata": {
  "kernelspec": {
   "display_name": "Python 3",
   "language": "python",
   "name": "python3"
  },
  "language_info": {
   "codemirror_mode": {
    "name": "ipython",
    "version": 3
   },
   "file_extension": ".py",
   "mimetype": "text/x-python",
   "name": "python",
   "nbconvert_exporter": "python",
   "pygments_lexer": "ipython3",
   "version": "3.8.8"
  }
 },
 "nbformat": 4,
 "nbformat_minor": 5
}
